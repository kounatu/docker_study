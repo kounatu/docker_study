{
 "cells": [
  {
   "cell_type": "markdown",
   "metadata": {
    "toc-hr-collapsed": false
   },
   "source": [
    "# docker"
   ]
  },
  {
   "cell_type": "markdown",
   "metadata": {},
   "source": [
    "> Dockerは、インフラ関係やDevOps界隈で注目されている技術の一つで、Docker社が開発している、コンテナ型の仮想環境を作成、配布、実行するためのプラットフォームです。\n",
    "（https://www.docker.com/what-docker）"
   ]
  },
  {
   "cell_type": "markdown",
   "metadata": {},
   "source": [
    "## image\n",
    "- コンテナ(仮想環境)を起動するのに必要な設定ファイルをまとめたもの\n",
    "- Imageはコンテナの元であり、Imageからコンテナを起動する\n",
    "- DockerではこのImageを共有することで、様々な環境で同じコンテナ(実行環境)を動作させることができるのです。"
   ]
  },
  {
   "cell_type": "markdown",
   "metadata": {},
   "source": [
    "## コンテナ\n",
    "- 仮想環境のこと\n",
    "- カーネルにlinuxカーネルを使用しており、コンテナに使用するOSはlinuxカーネルであれば何でも良い(例：ubuntu,centOS)\n",
    "- コンテナが削除された時点でそのコンテナ内のデータは消える\n",
    "- コンテナ間でデータ共有できない(ネットワーク経由でできそう)\n",
    "- コンテナレイヤーへのデータ書き込みは、通常のファイルシステムと異なるユニオンファイルシステムが使われているため、書き込み速度が遅い\n",
    "- ホストマシンのメモリ領域をコンテナにマウントし、コンテナが終了した場合も、保持していたデータは解放される"
   ]
  },
  {
   "cell_type": "markdown",
   "metadata": {
    "toc-hr-collapsed": false
   },
   "source": [
    "## Dockerfile\n",
    "- 公開されているDockerイメージをそのまま使うのではなく、必要なパッケージやアプリ、各種設定などを含んだ状態のイメージを作成するためのファイル\n",
    "- Dokerfileを使用せずにコンテナを立ち上げることはできる\n",
    "### 例\n",
    "```\n",
    "# Dockerfile\n",
    "FROM jupyter/datascience-notebook # dockerが公式配布しているデータサイエンティスト用のイメージ（pythonとかR導入済み）\n",
    "RUN pip install jupyterlab #追加でjupyterlabインストール\n",
    "```"
   ]
  },
  {
   "cell_type": "markdown",
   "metadata": {
    "toc-hr-collapsed": false
   },
   "source": [
    "## docker-compose.yml\n",
    "- docker-compose.ymlはDockerfileに色々オプションを追加してコンテナを作成するファイル\n",
    "- imageから直接コンテナ作成もできる\n",
    "- docker-composeコマンドでコンテナ作成できる\n",
    "- 手軽\n",
    "- 公式配布などのimageではcommandなど追加コマンドが使用できない？\n",
    "\n",
    "### 例\n",
    "```\n",
    "# docker-compose.yml\n",
    "version: \"3\"\n",
    "services:\n",
    "  jupyterlab:\n",
    "    build:\n",
    "      context: . # このファイルと同じ場所にあるDockerfileを読み込む\n",
    "    user: root\n",
    "    ports:\n",
    "      - \"9001:8888\" #ホストのポート9999とコンテナのポート8888をつなぐjupyter用\n",
    "    volumes:\n",
    "    - \"~/docker/1:/home/jovyan/workspace\" # notebookをホスト(ローカルPCB)と共有したいためディレクトリをマウント\n",
    "    environment:\n",
    "      NB_UID: 500 # 作業するユーザーのUID\n",
    "      GRANT_SUDO: \"yes\" # 管理者モード\n",
    "    restart: unless-stopped #\n",
    "    command: start.sh jupyter lab --NotebookApp.password='sha1:000000000000000000000000000000000000000000000000' #jupyterのパスワードのハッシュ値\n",
    "```"
   ]
  },
  {
   "cell_type": "markdown",
   "metadata": {},
   "source": [
    "# コマンド"
   ]
  },
  {
   "cell_type": "markdown",
   "metadata": {},
   "source": [
    "## image作成\n",
    "```\n",
    "docker-compose build # ymlファイルにimage:が書かれている場合はそのイメージ名がローカルになければ、リモートからプルしてきます。\n",
    "                     # imageが書かれていない場合、buildに書かれているパスの(デフォルトは)Dockerfileを参考にしてイメージを構築します。\n",
    "```"
   ]
  },
  {
   "cell_type": "markdown",
   "metadata": {},
   "source": [
    "## コンテナの作成と開始\n",
    "```\n",
    "docker-compose up # imageからコンテナを作成しコンテナを起動する。再起動もこのコマンド\n",
    "```"
   ]
  },
  {
   "cell_type": "markdown",
   "metadata": {},
   "source": [
    "## コンテナの停止\n",
    "```\n",
    "ctrl + c\n",
    "```"
   ]
  },
  {
   "cell_type": "markdown",
   "metadata": {},
   "source": [
    "## Dockerfile or ビルド処理の変更を反映させる\n",
    "```\n",
    "docker-compose up --build\n",
    "```"
   ]
  },
  {
   "cell_type": "markdown",
   "metadata": {
    "toc-hr-collapsed": false
   },
   "source": [
    "### コンテナ一覧取得\n",
    "```docker ps -a # -aを外すと停止中のコンテナが表示されない\n",
    "```"
   ]
  },
  {
   "cell_type": "markdown",
   "metadata": {},
   "source": [
    "## イメージ一覧取得\n",
    "``` docker images```"
   ]
  },
  {
   "cell_type": "markdown",
   "metadata": {},
   "source": [
    "## コンテナ削除\n",
    "```docker rm コンテナID```"
   ]
  },
  {
   "cell_type": "markdown",
   "metadata": {},
   "source": [
    "## イメージ削除\n",
    "```docker rmi image名```"
   ]
  }
 ],
 "metadata": {
  "kernelspec": {
   "display_name": "Python 3",
   "language": "python",
   "name": "python3"
  },
  "language_info": {
   "codemirror_mode": {
    "name": "ipython",
    "version": 3
   },
   "file_extension": ".py",
   "mimetype": "text/x-python",
   "name": "python",
   "nbconvert_exporter": "python",
   "pygments_lexer": "ipython3",
   "version": "3.7.2"
  }
 },
 "nbformat": 4,
 "nbformat_minor": 2
}
