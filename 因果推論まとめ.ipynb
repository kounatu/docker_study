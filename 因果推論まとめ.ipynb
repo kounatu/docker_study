{
 "cells": [
  {
   "cell_type": "markdown",
   "metadata": {},
   "source": [
    "# 因果推論\n",
    "## LiNGAMモデル\n",
    "- 非ガウス性に基づいた構造推定モデル\n",
    "- ヘルシンキ大学の研究室？にて発表されたモデルで当時Matlabでソースコードが配布されている(https://sites.google.com/site/sshimizu06/lingam)\n",
    "- 同研究室からpythonコードも公開されている\n",
    "- LiNGAM「Linear, Non-Gaussian, Acyclic causal Models」の略称\n",
    "- このモデルはstandard SEMの拡張モデルである(Structural Equation Model; see, for instance, Bollen 1989)\n",
    "- このモデルの着目点はデータが非ガウス性に基づいているとき、従来のカウス性に基づいたモデルよりも構造推定が優れている\n",
    "- 隠れた交絡因子が無いものと仮定している"
   ]
  }
 ],
 "metadata": {
  "kernelspec": {
   "display_name": "Python 3",
   "language": "python",
   "name": "python3"
  },
  "language_info": {
   "codemirror_mode": {
    "name": "ipython",
    "version": 3
   },
   "file_extension": ".py",
   "mimetype": "text/x-python",
   "name": "python",
   "nbconvert_exporter": "python",
   "pygments_lexer": "ipython3",
   "version": "3.7.2"
  }
 },
 "nbformat": 4,
 "nbformat_minor": 2
}
